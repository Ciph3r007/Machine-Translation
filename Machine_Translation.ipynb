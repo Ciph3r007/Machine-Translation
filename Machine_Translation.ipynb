{
  "nbformat": 4,
  "nbformat_minor": 0,
  "metadata": {
    "kernelspec": {
      "name": "python3",
      "display_name": "Python 3"
    },
    "colab": {
      "name": "Machine_Translation.ipynb",
      "provenance": [],
      "collapsed_sections": [],
      "include_colab_link": true
    },
    "accelerator": "GPU",
    "widgets": {
      "application/vnd.jupyter.widget-state+json": {
        "536af3bf5f634f30bb0e5473c104c5a3": {
          "model_module": "@jupyter-widgets/controls",
          "model_name": "HBoxModel",
          "state": {
            "_view_name": "HBoxView",
            "_dom_classes": [],
            "_model_name": "HBoxModel",
            "_view_module": "@jupyter-widgets/controls",
            "_model_module_version": "1.5.0",
            "_view_count": null,
            "_view_module_version": "1.5.0",
            "box_style": "",
            "layout": "IPY_MODEL_da5732f29cef434b80ff55a98204e491",
            "_model_module": "@jupyter-widgets/controls",
            "children": [
              "IPY_MODEL_8f9a059b143f41658f806cba3a626532",
              "IPY_MODEL_9bcd1c30bd084c64baf0dbd5f7510343"
            ]
          }
        },
        "da5732f29cef434b80ff55a98204e491": {
          "model_module": "@jupyter-widgets/base",
          "model_name": "LayoutModel",
          "state": {
            "_view_name": "LayoutView",
            "grid_template_rows": null,
            "right": null,
            "justify_content": null,
            "_view_module": "@jupyter-widgets/base",
            "overflow": null,
            "_model_module_version": "1.2.0",
            "_view_count": null,
            "flex_flow": null,
            "width": null,
            "min_width": null,
            "border": null,
            "align_items": null,
            "bottom": null,
            "_model_module": "@jupyter-widgets/base",
            "top": null,
            "grid_column": null,
            "overflow_y": null,
            "overflow_x": null,
            "grid_auto_flow": null,
            "grid_area": null,
            "grid_template_columns": null,
            "flex": null,
            "_model_name": "LayoutModel",
            "justify_items": null,
            "grid_row": null,
            "max_height": null,
            "align_content": null,
            "visibility": null,
            "align_self": null,
            "height": null,
            "min_height": null,
            "padding": null,
            "grid_auto_rows": null,
            "grid_gap": null,
            "max_width": null,
            "order": null,
            "_view_module_version": "1.2.0",
            "grid_template_areas": null,
            "object_position": null,
            "object_fit": null,
            "grid_auto_columns": null,
            "margin": null,
            "display": null,
            "left": null
          }
        },
        "8f9a059b143f41658f806cba3a626532": {
          "model_module": "@jupyter-widgets/controls",
          "model_name": "FloatProgressModel",
          "state": {
            "_view_name": "ProgressView",
            "style": "IPY_MODEL_c6e2bab2ae8440ea9005298d14d2c423",
            "_dom_classes": [],
            "description": "100%",
            "_model_name": "FloatProgressModel",
            "bar_style": "success",
            "max": 10,
            "_view_module": "@jupyter-widgets/controls",
            "_model_module_version": "1.5.0",
            "value": 10,
            "_view_count": null,
            "_view_module_version": "1.5.0",
            "orientation": "horizontal",
            "min": 0,
            "description_tooltip": null,
            "_model_module": "@jupyter-widgets/controls",
            "layout": "IPY_MODEL_b92f1a7708d249cebc8c11d32f9b7097"
          }
        },
        "9bcd1c30bd084c64baf0dbd5f7510343": {
          "model_module": "@jupyter-widgets/controls",
          "model_name": "HTMLModel",
          "state": {
            "_view_name": "HTMLView",
            "style": "IPY_MODEL_0a3c952710fe43c497a8986678b02a46",
            "_dom_classes": [],
            "description": "",
            "_model_name": "HTMLModel",
            "placeholder": "​",
            "_view_module": "@jupyter-widgets/controls",
            "_model_module_version": "1.5.0",
            "value": " 10/10 [16:07&lt;00:00, 96.71s/it]",
            "_view_count": null,
            "_view_module_version": "1.5.0",
            "description_tooltip": null,
            "_model_module": "@jupyter-widgets/controls",
            "layout": "IPY_MODEL_00bc61c1c47e40d09a50bd82a321370c"
          }
        },
        "c6e2bab2ae8440ea9005298d14d2c423": {
          "model_module": "@jupyter-widgets/controls",
          "model_name": "ProgressStyleModel",
          "state": {
            "_view_name": "StyleView",
            "_model_name": "ProgressStyleModel",
            "description_width": "initial",
            "_view_module": "@jupyter-widgets/base",
            "_model_module_version": "1.5.0",
            "_view_count": null,
            "_view_module_version": "1.2.0",
            "bar_color": null,
            "_model_module": "@jupyter-widgets/controls"
          }
        },
        "b92f1a7708d249cebc8c11d32f9b7097": {
          "model_module": "@jupyter-widgets/base",
          "model_name": "LayoutModel",
          "state": {
            "_view_name": "LayoutView",
            "grid_template_rows": null,
            "right": null,
            "justify_content": null,
            "_view_module": "@jupyter-widgets/base",
            "overflow": null,
            "_model_module_version": "1.2.0",
            "_view_count": null,
            "flex_flow": null,
            "width": null,
            "min_width": null,
            "border": null,
            "align_items": null,
            "bottom": null,
            "_model_module": "@jupyter-widgets/base",
            "top": null,
            "grid_column": null,
            "overflow_y": null,
            "overflow_x": null,
            "grid_auto_flow": null,
            "grid_area": null,
            "grid_template_columns": null,
            "flex": null,
            "_model_name": "LayoutModel",
            "justify_items": null,
            "grid_row": null,
            "max_height": null,
            "align_content": null,
            "visibility": null,
            "align_self": null,
            "height": null,
            "min_height": null,
            "padding": null,
            "grid_auto_rows": null,
            "grid_gap": null,
            "max_width": null,
            "order": null,
            "_view_module_version": "1.2.0",
            "grid_template_areas": null,
            "object_position": null,
            "object_fit": null,
            "grid_auto_columns": null,
            "margin": null,
            "display": null,
            "left": null
          }
        },
        "0a3c952710fe43c497a8986678b02a46": {
          "model_module": "@jupyter-widgets/controls",
          "model_name": "DescriptionStyleModel",
          "state": {
            "_view_name": "StyleView",
            "_model_name": "DescriptionStyleModel",
            "description_width": "",
            "_view_module": "@jupyter-widgets/base",
            "_model_module_version": "1.5.0",
            "_view_count": null,
            "_view_module_version": "1.2.0",
            "_model_module": "@jupyter-widgets/controls"
          }
        },
        "00bc61c1c47e40d09a50bd82a321370c": {
          "model_module": "@jupyter-widgets/base",
          "model_name": "LayoutModel",
          "state": {
            "_view_name": "LayoutView",
            "grid_template_rows": null,
            "right": null,
            "justify_content": null,
            "_view_module": "@jupyter-widgets/base",
            "overflow": null,
            "_model_module_version": "1.2.0",
            "_view_count": null,
            "flex_flow": null,
            "width": null,
            "min_width": null,
            "border": null,
            "align_items": null,
            "bottom": null,
            "_model_module": "@jupyter-widgets/base",
            "top": null,
            "grid_column": null,
            "overflow_y": null,
            "overflow_x": null,
            "grid_auto_flow": null,
            "grid_area": null,
            "grid_template_columns": null,
            "flex": null,
            "_model_name": "LayoutModel",
            "justify_items": null,
            "grid_row": null,
            "max_height": null,
            "align_content": null,
            "visibility": null,
            "align_self": null,
            "height": null,
            "min_height": null,
            "padding": null,
            "grid_auto_rows": null,
            "grid_gap": null,
            "max_width": null,
            "order": null,
            "_view_module_version": "1.2.0",
            "grid_template_areas": null,
            "object_position": null,
            "object_fit": null,
            "grid_auto_columns": null,
            "margin": null,
            "display": null,
            "left": null
          }
        }
      }
    }
  },
  "cells": [
    {
      "cell_type": "markdown",
      "metadata": {
        "id": "view-in-github",
        "colab_type": "text"
      },
      "source": [
        "<a href=\"https://colab.research.google.com/github/Ciph3r007/Machine-Translation/blob/main/Machine_Translation.ipynb\" target=\"_parent\"><img src=\"https://colab.research.google.com/assets/colab-badge.svg\" alt=\"Open In Colab\"/></a>"
      ]
    },
    {
      "cell_type": "markdown",
      "metadata": {
        "id": "vsX0L1sG1iZj"
      },
      "source": [
        "# Neural Machine Translation model\n",
        "\n",
        "In this project, language dataset from http://www.manythings.org/anki/ is used to build a neural translation model. This dataset consists of over 200,000 pairs of sentences in English and German. In order to make the training quicker, dataset is restricted to 20,000 pairs.\n",
        "\n",
        "The model translates from English to German, making use of a pre-trained English word embedding module."
      ]
    },
    {
      "cell_type": "code",
      "metadata": {
        "id": "2VyTvxPN1iZn"
      },
      "source": [
        "import numpy as np\n",
        "import tensorflow as tf\n",
        "import tensorflow_hub as hub\n",
        "import unicodedata\n",
        "import re\n",
        "from IPython.display import Image"
      ],
      "execution_count": null,
      "outputs": []
    },
    {
      "cell_type": "markdown",
      "metadata": {
        "id": "pi9Dq6vv3FVO"
      },
      "source": [
        "#### Importing the data"
      ]
    },
    {
      "cell_type": "code",
      "metadata": {
        "id": "Nw99tEEQ3bKL",
        "colab": {
          "base_uri": "https://localhost:8080/",
          "height": 34
        },
        "outputId": "4b2c25fb-f384-4288-b0e8-0d357edcf54f"
      },
      "source": [
        "# Run this cell to connect to your Drive folder\n",
        "\n",
        "from google.colab import drive\n",
        "drive.mount('/content/drive')"
      ],
      "execution_count": null,
      "outputs": [
        {
          "output_type": "stream",
          "text": [
            "Drive already mounted at /content/drive; to attempt to forcibly remount, call drive.mount(\"/content/drive\", force_remount=True).\n"
          ],
          "name": "stdout"
        }
      ]
    },
    {
      "cell_type": "code",
      "metadata": {
        "id": "U4S0fDAJWwPe"
      },
      "source": [
        "%cd /content/drive/My\\ Drive/colab_data/Github/Machine_Translation/Data\n",
        "!ls"
      ],
      "execution_count": null,
      "outputs": []
    },
    {
      "cell_type": "code",
      "metadata": {
        "id": "o8PetPpw1iZu"
      },
      "source": [
        "# Loading 20000 samples\n",
        "\n",
        "NUM_EXAMPLES = 20000\n",
        "data_examples = []\n",
        "with open('deu.txt', 'r', encoding='utf8') as f:\n",
        "    for line in f.readlines():\n",
        "        if len(data_examples) < NUM_EXAMPLES:\n",
        "            data_examples.append(line)\n",
        "        else:\n",
        "            break"
      ],
      "execution_count": null,
      "outputs": []
    },
    {
      "cell_type": "code",
      "metadata": {
        "id": "JumLjJ631iZy"
      },
      "source": [
        "# These functions preprocess English and German sentences\n",
        "\n",
        "def unicode_to_ascii(s):\n",
        "    return ''.join(c for c in unicodedata.normalize('NFD', s) \\\n",
        "                   if unicodedata.category(c) != 'Mn')\n",
        "\n",
        "def preprocess_sentence(sentence):\n",
        "    sentence = sentence.lower().strip()\n",
        "    sentence = re.sub(r\"ü\", 'ue', sentence)\n",
        "    sentence = re.sub(r\"ä\", 'ae', sentence)\n",
        "    sentence = re.sub(r\"ö\", 'oe', sentence)\n",
        "    sentence = re.sub(r'ß', 'ss', sentence)\n",
        "    \n",
        "    sentence = unicode_to_ascii(sentence)\n",
        "    sentence = re.sub(r\"([?.!,])\", r\" \\1 \", sentence)\n",
        "    sentence = re.sub(r\"[^a-z?.!,']+\", \" \", sentence)\n",
        "    sentence = re.sub(r'[\" \"]+', \" \", sentence)\n",
        "    \n",
        "    return sentence.strip()"
      ],
      "execution_count": null,
      "outputs": []
    },
    {
      "cell_type": "markdown",
      "metadata": {
        "id": "XFJap-TW1iZ2"
      },
      "source": [
        "#### The custom translation model\n",
        "The following is a schematic description of the custom translation model architecture.\n",
        "\n",
        "The custom model consists of an encoder RNN and a decoder RNN. The encoder takes words of an English sentence as input, and uses a pre-trained word embedding to embed the words into a 128-dimensional space. To indicate the end of the input sentence, a special end token (in the same 128-dimensional space) is passed in as an input. This token is a TensorFlow Variable that is learned in the training phase (unlike the pre-trained word embedding, which is frozen).\n",
        "\n",
        "The decoder RNN takes the internal state of the encoder network as its initial state. A start token is passed in as the first input, which is embedded using a learned German word embedding. The decoder RNN then makes a prediction for the next German word, which during inference is then passed in as the following input, and this process is repeated until the special `<end>` token is emitted from the decoder."
      ]
    },
    {
      "cell_type": "markdown",
      "metadata": {
        "id": "z70nu6_01iZ3"
      },
      "source": [
        "## 1. Text preprocessing"
      ]
    },
    {
      "cell_type": "code",
      "metadata": {
        "id": "04POHZ3ChseK"
      },
      "source": [
        "from tensorflow.keras.preprocessing.text import Tokenizer\n",
        "from tensorflow.keras.preprocessing.sequence import pad_sequences"
      ],
      "execution_count": null,
      "outputs": []
    },
    {
      "cell_type": "code",
      "metadata": {
        "scrolled": true,
        "id": "9G20C4bk1iZ4"
      },
      "source": [
        "eng_sentences = [None]*20000\n",
        "ger_sentences = [None]*20000\n",
        "\n",
        "START = '<start>'\n",
        "END = '<end>'\n",
        "\n",
        "for i, line in enumerate(data_examples):\n",
        "    pair = line.split('\\t')[:2]\n",
        "    eng_sentences[i] = preprocess_sentence(pair[0])\n",
        "    ger_sentences[i] = ' '.join([START, preprocess_sentence(pair[1]), END])"
      ],
      "execution_count": null,
      "outputs": []
    },
    {
      "cell_type": "code",
      "metadata": {
        "id": "Sxwl-1rB1iZ8"
      },
      "source": [
        "tokenizer = Tokenizer(filters='')\n",
        "tokenizer.fit_on_texts(ger_sentences)"
      ],
      "execution_count": null,
      "outputs": []
    },
    {
      "cell_type": "code",
      "metadata": {
        "id": "WnIdqZFk1iaA"
      },
      "source": [
        "ger_tokenized = tokenizer.texts_to_sequences(ger_sentences)"
      ],
      "execution_count": null,
      "outputs": []
    },
    {
      "cell_type": "code",
      "metadata": {
        "id": "ZGTaqt1t1iaI",
        "colab": {
          "base_uri": "https://localhost:8080/",
          "height": 353
        },
        "outputId": "faee4f73-30ec-499a-cbbc-92d3f7be15e5"
      },
      "source": [
        "random_index = np.random.choice(20000, 5, replace=False)\n",
        "for i in random_index:\n",
        "    print(eng_sentences[i])\n",
        "    print(ger_sentences[i])\n",
        "    print(ger_tokenized[i], '\\n')"
      ],
      "execution_count": null,
      "outputs": [
        {
          "output_type": "stream",
          "text": [
            "i need a computer .\n",
            "<start> ich brauche einen computer . <end>\n",
            "[1, 4, 94, 40, 2206, 3, 2] \n",
            "\n",
            "tom felt weak .\n",
            "<start> tom fuehlte sich schwach . <end>\n",
            "[1, 5, 234, 34, 489, 3, 2] \n",
            "\n",
            "i'll follow tom .\n",
            "<start> ich werde tom folgen . <end>\n",
            "[1, 4, 39, 5, 492, 3, 2] \n",
            "\n",
            "is this correct ?\n",
            "<start> ist das wahr ? <end>\n",
            "[1, 6, 11, 348, 7, 2] \n",
            "\n",
            "he's not ready .\n",
            "<start> er ist nicht bereit . <end>\n",
            "[1, 14, 6, 12, 271, 3, 2] \n",
            "\n"
          ],
          "name": "stdout"
        }
      ]
    },
    {
      "cell_type": "code",
      "metadata": {
        "id": "5UlnBdIK1iaE",
        "colab": {
          "base_uri": "https://localhost:8080/",
          "height": 34
        },
        "outputId": "784e3d10-e14c-493b-9e0f-07c041216624"
      },
      "source": [
        "ger_token_padded = pad_sequences(ger_tokenized, padding='post')\n",
        "ger_token_padded.shape"
      ],
      "execution_count": null,
      "outputs": [
        {
          "output_type": "execute_result",
          "data": {
            "text/plain": [
              "(20000, 14)"
            ]
          },
          "metadata": {
            "tags": []
          },
          "execution_count": 12
        }
      ]
    },
    {
      "cell_type": "markdown",
      "metadata": {
        "id": "foL7Ihs21iaP"
      },
      "source": [
        "## 2. Preparing the data"
      ]
    },
    {
      "cell_type": "markdown",
      "metadata": {
        "id": "-9rCEE4z1iaQ"
      },
      "source": [
        "#### Loading the embedding layer"
      ]
    },
    {
      "cell_type": "code",
      "metadata": {
        "id": "ywZgobCh1iaR"
      },
      "source": [
        "# Load embedding module from Tensorflow Hub\n",
        "\n",
        "embedding_layer = hub.KerasLayer(\"https://tfhub.dev/google/tf2-preview/nnlm-en-dim128/1\", \n",
        "                                 output_shape=[128], input_shape=[], dtype=tf.string)"
      ],
      "execution_count": null,
      "outputs": []
    },
    {
      "cell_type": "code",
      "metadata": {
        "id": "TiY8QEDp1iaV",
        "colab": {
          "base_uri": "https://localhost:8080/",
          "height": 34
        },
        "outputId": "f38c6913-3d2c-4cfe-c4f6-63337b52f292"
      },
      "source": [
        "# Test the layer\n",
        "\n",
        "embedding_layer(tf.constant([\"these\", \"aren't\", \"the\", \"droids\", \"you're\", \"looking\", \"for\"])).shape"
      ],
      "execution_count": null,
      "outputs": [
        {
          "output_type": "execute_result",
          "data": {
            "text/plain": [
              "TensorShape([7, 128])"
            ]
          },
          "metadata": {
            "tags": []
          },
          "execution_count": 14
        }
      ]
    },
    {
      "cell_type": "markdown",
      "metadata": {
        "id": "lvOIyzpJu8Hv"
      },
      "source": [
        "Splitting the datasets:"
      ]
    },
    {
      "cell_type": "code",
      "metadata": {
        "id": "a5I3Cb0tW0hg"
      },
      "source": [
        "from sklearn.model_selection import train_test_split"
      ],
      "execution_count": null,
      "outputs": []
    },
    {
      "cell_type": "code",
      "metadata": {
        "id": "Q-BUJOl_1iaZ"
      },
      "source": [
        "X_train, X_test, y_train, y_test = train_test_split(eng_sentences,\n",
        "                                                    ger_token_padded,\n",
        "                                                    test_size=0.2,\n",
        "                                                    random_state=7)"
      ],
      "execution_count": null,
      "outputs": []
    },
    {
      "cell_type": "markdown",
      "metadata": {
        "id": "jhNb7ey4vWKe"
      },
      "source": [
        "Converting to `tf.data.Dataset` objects"
      ]
    },
    {
      "cell_type": "code",
      "metadata": {
        "id": "4w6rM8Bl1iad",
        "colab": {
          "base_uri": "https://localhost:8080/",
          "height": 50
        },
        "outputId": "e6ddfa16-6a0e-4bf3-c725-83dae24ed7b3"
      },
      "source": [
        "train_data = tf.data.Dataset.from_tensor_slices((X_train, y_train))\n",
        "test_data = tf.data.Dataset.from_tensor_slices((X_test, y_test))\n",
        "\n",
        "train_data.element_spec"
      ],
      "execution_count": null,
      "outputs": [
        {
          "output_type": "execute_result",
          "data": {
            "text/plain": [
              "(TensorSpec(shape=(), dtype=tf.string, name=None),\n",
              " TensorSpec(shape=(14,), dtype=tf.int32, name=None))"
            ]
          },
          "metadata": {
            "tags": []
          },
          "execution_count": 17
        }
      ]
    },
    {
      "cell_type": "markdown",
      "metadata": {
        "id": "nsuHTyxMvjtQ"
      },
      "source": [
        "Splitting English sentences to words:"
      ]
    },
    {
      "cell_type": "code",
      "metadata": {
        "id": "D7bn3mRs1iaj",
        "colab": {
          "base_uri": "https://localhost:8080/",
          "height": 50
        },
        "outputId": "63def211-2a84-46d9-bb64-b098bed6d2e3"
      },
      "source": [
        "train_data = train_data.map(lambda x, y: (tf.strings.split(x), y))\n",
        "test_data = test_data.map(lambda x, y: (tf.strings.split(x), y))\n",
        "\n",
        "train_data.element_spec"
      ],
      "execution_count": null,
      "outputs": [
        {
          "output_type": "execute_result",
          "data": {
            "text/plain": [
              "(TensorSpec(shape=(None,), dtype=tf.string, name=None),\n",
              " TensorSpec(shape=(14,), dtype=tf.int32, name=None))"
            ]
          },
          "metadata": {
            "tags": []
          },
          "execution_count": 18
        }
      ]
    },
    {
      "cell_type": "markdown",
      "metadata": {
        "id": "j-Sq8jCGv6j7"
      },
      "source": [
        "Converting to Embeddings:"
      ]
    },
    {
      "cell_type": "code",
      "metadata": {
        "id": "xkOS2rkFf0bc",
        "colab": {
          "base_uri": "https://localhost:8080/",
          "height": 50
        },
        "outputId": "59d22d30-980f-4143-86cf-fc75599f4ef8"
      },
      "source": [
        "train_data = train_data.map(lambda x, y: (embedding_layer(x), y))\n",
        "test_data = test_data.map(lambda x, y: (embedding_layer(x), y))\n",
        "\n",
        "train_data.element_spec"
      ],
      "execution_count": null,
      "outputs": [
        {
          "output_type": "execute_result",
          "data": {
            "text/plain": [
              "(TensorSpec(shape=(None, 128), dtype=tf.float32, name=None),\n",
              " TensorSpec(shape=(14,), dtype=tf.int32, name=None))"
            ]
          },
          "metadata": {
            "tags": []
          },
          "execution_count": 19
        }
      ]
    },
    {
      "cell_type": "markdown",
      "metadata": {
        "id": "FRCLWUACwCUs"
      },
      "source": [
        "Removing English sentences which contains more than 13 words:"
      ]
    },
    {
      "cell_type": "code",
      "metadata": {
        "id": "q0Fdso381ian",
        "colab": {
          "base_uri": "https://localhost:8080/",
          "height": 50
        },
        "outputId": "a7c567a3-05bd-4e93-8747-7840736d3199"
      },
      "source": [
        "train_data = train_data.filter(lambda x, y: tf.shape(x)[0] <= 13)\n",
        "test_data = test_data.filter(lambda x, y: tf.shape(x)[0] <= 13)\n",
        "\n",
        "train_data.element_spec"
      ],
      "execution_count": null,
      "outputs": [
        {
          "output_type": "execute_result",
          "data": {
            "text/plain": [
              "(TensorSpec(shape=(None, 128), dtype=tf.float32, name=None),\n",
              " TensorSpec(shape=(14,), dtype=tf.int32, name=None))"
            ]
          },
          "metadata": {
            "tags": []
          },
          "execution_count": 20
        }
      ]
    },
    {
      "cell_type": "markdown",
      "metadata": {
        "id": "yoaQR6UkwN2m"
      },
      "source": [
        "Finally, pre-padding the English embedding to have a similar shape of (13, 128):"
      ]
    },
    {
      "cell_type": "code",
      "metadata": {
        "id": "bGqlxuqZ1ias",
        "colab": {
          "base_uri": "https://localhost:8080/",
          "height": 50
        },
        "outputId": "ecbc8365-c848-4769-c114-8cd98e2875eb"
      },
      "source": [
        "def pad_map(x, y):\n",
        "    pad_length = 13 - tf.shape(x)[0]\n",
        "    padding = [[pad_length, 0], [0, 0]]\n",
        "    x = tf.pad(x, padding)\n",
        "    x = tf.reshape(x, (13, 128))\n",
        "\n",
        "    return (x, y)\n",
        "\n",
        "train_data = train_data.map(pad_map)\n",
        "test_data = test_data.map(pad_map)\n",
        "\n",
        "train_data.element_spec"
      ],
      "execution_count": null,
      "outputs": [
        {
          "output_type": "execute_result",
          "data": {
            "text/plain": [
              "(TensorSpec(shape=(13, 128), dtype=tf.float32, name=None),\n",
              " TensorSpec(shape=(14,), dtype=tf.int32, name=None))"
            ]
          },
          "metadata": {
            "tags": []
          },
          "execution_count": 21
        }
      ]
    },
    {
      "cell_type": "code",
      "metadata": {
        "id": "jhKxMEvQEhvR"
      },
      "source": [
        "train_data = train_data.batch(16)\n",
        "test_data = test_data.batch(16)"
      ],
      "execution_count": null,
      "outputs": []
    },
    {
      "cell_type": "code",
      "metadata": {
        "id": "z7FZjtiuEqb8",
        "colab": {
          "base_uri": "https://localhost:8080/",
          "height": 50
        },
        "outputId": "6f38cf6b-fd34-4fc8-be60-f0f5dec94015"
      },
      "source": [
        "print(train_data.element_spec)\n",
        "print(test_data.element_spec)"
      ],
      "execution_count": null,
      "outputs": [
        {
          "output_type": "stream",
          "text": [
            "(TensorSpec(shape=(None, 13, 128), dtype=tf.float32, name=None), TensorSpec(shape=(None, 14), dtype=tf.int32, name=None))\n",
            "(TensorSpec(shape=(None, 13, 128), dtype=tf.float32, name=None), TensorSpec(shape=(None, 14), dtype=tf.int32, name=None))\n"
          ],
          "name": "stdout"
        }
      ]
    },
    {
      "cell_type": "code",
      "metadata": {
        "id": "MdqSXEoX1iav",
        "colab": {
          "base_uri": "https://localhost:8080/",
          "height": 336
        },
        "outputId": "4b5e81b4-cec3-41fa-f541-a1c0d960a9e9"
      },
      "source": [
        "temp_eng, _ = tuple(*train_data.take(1))\n",
        "_, temp_ger = tuple(*test_data.take(1))\n",
        "\n",
        "print('Training English batch shape:', temp_eng.shape)\n",
        "print('\\nValidation German batch sample:')\n",
        "print(temp_ger.numpy())"
      ],
      "execution_count": null,
      "outputs": [
        {
          "output_type": "stream",
          "text": [
            "Training English batch shape: (16, 13, 128)\n",
            "\n",
            "Validation German batch sample:\n",
            "[[   1    4   15   41 4811    3    2    0    0    0    0    0    0    0]\n",
            " [   1    4   15   19 2387    3    2    0    0    0    0    0    0    0]\n",
            " [   1    5    6 1391    3    2    0    0    0    0    0    0    0    0]\n",
            " [   1    4   15  576 1540    3    2    0    0    0    0    0    0    0]\n",
            " [   1   78 3142    3    2    0    0    0    0    0    0    0    0    0]\n",
            " [   1    8 2679   44    3    2    0    0    0    0    0    0    0    0]\n",
            " [   1    5 2948    3    2    0    0    0    0    0    0    0    0    0]\n",
            " [   1   26 5108 5109    3    2    0    0    0    0    0    0    0    0]\n",
            " [   1 4416  150  181    3    2    0    0    0    0    0    0    0    0]\n",
            " [   1    8    6   80  162    3    2    0    0    0    0    0    0    0]\n",
            " [   1   10 1176    3    2    0    0    0    0    0    0    0    0    0]\n",
            " [   1   64    8  365    3    2    0    0    0    0    0    0    0    0]\n",
            " [   1   13   32   70  273    9    2    0    0    0    0    0    0    0]\n",
            " [   1    4   24   20  337    3    2    0    0    0    0    0    0    0]\n",
            " [   1    4 1315  149    3    2    0    0    0    0    0    0    0    0]\n",
            " [   1   11 1679    6   41    3    2    0    0    0    0    0    0    0]]\n"
          ],
          "name": "stdout"
        }
      ]
    },
    {
      "cell_type": "markdown",
      "metadata": {
        "id": "isIYhjq01iay"
      },
      "source": [
        "## 3. Creating the custom layer to embed EOS\n",
        "You will now create a custom layer to add the learned end token embedding to the encoder model:"
      ]
    },
    {
      "cell_type": "code",
      "metadata": {
        "id": "yg9hjZz11ia0"
      },
      "source": [
        "from tensorflow.keras.layers import Layer, concatenate\n",
        "from tensorflow.keras.models import Model"
      ],
      "execution_count": null,
      "outputs": []
    },
    {
      "cell_type": "code",
      "metadata": {
        "id": "4PwI32O11ia3"
      },
      "source": [
        "class EOS_Embedding(Layer):\n",
        "\n",
        "    def __init__(self, **kwargs):\n",
        "        super(EOS_Embedding, self).__init__(**kwargs)\n",
        "        self.end_embed = self.add_weight(shape=(128,),\n",
        "                                         initializer='glorot_uniform')\n",
        "\n",
        "    def call(self, inputs):\n",
        "        batch_size = tf.shape(inputs)[0]\n",
        "        x = tf.tile(self.end_embed[None, None], [batch_size, 1, 1])\n",
        "        return concatenate([inputs, x], axis=1)"
      ],
      "execution_count": null,
      "outputs": []
    },
    {
      "cell_type": "code",
      "metadata": {
        "id": "uMtUUWkfTVly",
        "colab": {
          "base_uri": "https://localhost:8080/",
          "height": 50
        },
        "outputId": "cf220298-1eeb-4a8f-b0ad-f2013042170d"
      },
      "source": [
        "print(temp_eng.shape)\n",
        "token_embed = EOS_Embedding()\n",
        "print(token_embed(temp_eng).shape)"
      ],
      "execution_count": null,
      "outputs": [
        {
          "output_type": "stream",
          "text": [
            "(16, 13, 128)\n",
            "(16, 14, 128)\n"
          ],
          "name": "stdout"
        }
      ]
    },
    {
      "cell_type": "markdown",
      "metadata": {
        "id": "OAd3i4_y1ia-"
      },
      "source": [
        "## 4. Building the encoder network"
      ]
    },
    {
      "cell_type": "code",
      "metadata": {
        "id": "6R2LqbfV1ia_"
      },
      "source": [
        "from tensorflow.keras.layers import Input, Masking, LSTM"
      ],
      "execution_count": null,
      "outputs": []
    },
    {
      "cell_type": "code",
      "metadata": {
        "id": "e5XW6NxL1ibC"
      },
      "source": [
        "def Encoder(input_shape):\n",
        "    inputs = Input(shape=(input_shape))\n",
        "    x = EOS_Embedding()(inputs)\n",
        "    x = Masking()(x)\n",
        "    _, h, c = LSTM(512, return_state=True)(x)\n",
        "\n",
        "    model = Model(inputs=inputs, outputs=[h, c], name='encoder')\n",
        "\n",
        "    return model"
      ],
      "execution_count": null,
      "outputs": []
    },
    {
      "cell_type": "code",
      "metadata": {
        "id": "jEk9ikVh1ibL",
        "colab": {
          "base_uri": "https://localhost:8080/",
          "height": 84
        },
        "outputId": "3a331b34-8dff-4751-ecd5-1f735c77af3e"
      },
      "source": [
        "tf.keras.backend.clear_session()\n",
        "encoder = Encoder((temp_eng.shape[1], temp_eng.shape[2]))\n",
        "\n",
        "print('Input Shape:', temp_eng.shape, '\\n')\n",
        "print('Hidden States Shape:', encoder(temp_eng)[0].shape)\n",
        "print('Cell States Shape:', encoder(temp_eng)[1].shape)"
      ],
      "execution_count": null,
      "outputs": [
        {
          "output_type": "stream",
          "text": [
            "Input Shape: (16, 13, 128) \n",
            "\n",
            "Hidden States Shape: (16, 512)\n",
            "Cell States Shape: (16, 512)\n"
          ],
          "name": "stdout"
        }
      ]
    },
    {
      "cell_type": "code",
      "metadata": {
        "id": "XFKKOmYOX8Yi",
        "colab": {
          "base_uri": "https://localhost:8080/",
          "height": 286
        },
        "outputId": "037012e3-6841-4f8a-9f90-1989ce34cf64"
      },
      "source": [
        "encoder.summary()"
      ],
      "execution_count": null,
      "outputs": [
        {
          "output_type": "stream",
          "text": [
            "Model: \"encoder\"\n",
            "_________________________________________________________________\n",
            "Layer (type)                 Output Shape              Param #   \n",
            "=================================================================\n",
            "input_1 (InputLayer)         [(None, 13, 128)]         0         \n",
            "_________________________________________________________________\n",
            "eos__embedding (EOS_Embeddin (None, 14, 128)           128       \n",
            "_________________________________________________________________\n",
            "masking (Masking)            (None, 14, 128)           0         \n",
            "_________________________________________________________________\n",
            "lstm (LSTM)                  [(None, 512), (None, 512) 1312768   \n",
            "=================================================================\n",
            "Total params: 1,312,896\n",
            "Trainable params: 1,312,896\n",
            "Non-trainable params: 0\n",
            "_________________________________________________________________\n"
          ],
          "name": "stdout"
        }
      ]
    },
    {
      "cell_type": "markdown",
      "metadata": {
        "id": "KvkzpCeZ1ibR"
      },
      "source": [
        "## 5. Building the decoder network"
      ]
    },
    {
      "cell_type": "markdown",
      "metadata": {
        "id": "RdzGnSw_1sFb"
      },
      "source": [
        "Calculating vocabulary size and adding one for padded token 0:"
      ]
    },
    {
      "cell_type": "code",
      "metadata": {
        "id": "l50qhnXD1ibT"
      },
      "source": [
        "vocab_length = len(tokenizer.word_index) + 1"
      ],
      "execution_count": null,
      "outputs": []
    },
    {
      "cell_type": "markdown",
      "metadata": {
        "id": "uaaLs7nf2Eev"
      },
      "source": [
        "Building the `Decoder` Class:"
      ]
    },
    {
      "cell_type": "code",
      "metadata": {
        "id": "Fxx0QY_OlV_5"
      },
      "source": [
        "from tensorflow.keras.layers import Embedding, Dense"
      ],
      "execution_count": null,
      "outputs": []
    },
    {
      "cell_type": "code",
      "metadata": {
        "id": "vG5CRIXV1ibi"
      },
      "source": [
        "class Decoder(Model):\n",
        "    \n",
        "    def __init__(self, **kwargs):\n",
        "        super(Decoder, self).__init__(**kwargs)\n",
        "        \n",
        "        self.embedding = Embedding(vocab_length, 128, mask_zero=True)\n",
        "        self.lstm = LSTM(512, return_sequences=True, return_state=True)\n",
        "        self.dense = Dense(vocab_length)\n",
        "    \n",
        "    def call(self, inputs, hidden_state=None, cell_state=None):\n",
        "        if (hidden_state is None) or (cell_state is None):\n",
        "            initial_state = None\n",
        "        else:\n",
        "            initial_state = [hidden_state, cell_state]\n",
        "\n",
        "        x = self.embedding(inputs)\n",
        "        x, h, c = self.lstm(x, initial_state=initial_state)\n",
        "        out = self.dense(x)\n",
        "\n",
        "        return (out, h, c)\n",
        "\n",
        "    # THIS IS TO PRINT A NICE SUMMARY\n",
        "    def model(self):\n",
        "        x = tf.keras.layers.Input(shape=(14,), name='input')\n",
        "        h = tf.keras.layers.Input(shape=(512,), name='hidden_state')\n",
        "        c = tf.keras.layers.Input(shape=(512,), name='cell_state')\n",
        "\n",
        "        return Model(inputs=[x, h, c], outputs=self.call(x, h, c))"
      ],
      "execution_count": null,
      "outputs": []
    },
    {
      "cell_type": "markdown",
      "metadata": {
        "id": "Z9XKWLho2U53"
      },
      "source": [
        "Again using the previously extracted batch from the dataset to get decoder outputs:"
      ]
    },
    {
      "cell_type": "code",
      "metadata": {
        "id": "SvqqT_ET1ibl",
        "colab": {
          "base_uri": "https://localhost:8080/",
          "height": 67
        },
        "outputId": "1e4f799f-6b64-4c13-ec39-9755d413ec56"
      },
      "source": [
        "tf.keras.backend.clear_session()\n",
        "h, c = encoder(temp_eng)\n",
        "decoder = Decoder()\n",
        "out, h, c = decoder(temp_ger, h, c)\n",
        "\n",
        "print('Output Shape:', out.shape)\n",
        "print('Hidden State shape:', h.shape)\n",
        "print('Cell State Shape:', c.shape)"
      ],
      "execution_count": null,
      "outputs": [
        {
          "output_type": "stream",
          "text": [
            "Output Shape: (16, 14, 5744)\n",
            "Hidden State shape: (16, 512)\n",
            "Cell State Shape: (16, 512)\n"
          ],
          "name": "stdout"
        }
      ]
    },
    {
      "cell_type": "markdown",
      "metadata": {
        "id": "02_WIMGk268A"
      },
      "source": [
        "Decoder summary and structure:"
      ]
    },
    {
      "cell_type": "code",
      "metadata": {
        "id": "xVc64tfyqD08",
        "colab": {
          "base_uri": "https://localhost:8080/",
          "height": 738
        },
        "outputId": "64ce18cd-50bf-4730-f042-87416164c0db"
      },
      "source": [
        "decoder.model().summary()\n",
        "tf.keras.utils.plot_model(decoder.model())"
      ],
      "execution_count": null,
      "outputs": [
        {
          "output_type": "stream",
          "text": [
            "Model: \"functional_1\"\n",
            "__________________________________________________________________________________________________\n",
            "Layer (type)                    Output Shape         Param #     Connected to                     \n",
            "==================================================================================================\n",
            "input (InputLayer)              [(None, 14)]         0                                            \n",
            "__________________________________________________________________________________________________\n",
            "embedding (Embedding)           (None, 14, 128)      735232      input[0][0]                      \n",
            "__________________________________________________________________________________________________\n",
            "hidden_state (InputLayer)       [(None, 512)]        0                                            \n",
            "__________________________________________________________________________________________________\n",
            "cell_state (InputLayer)         [(None, 512)]        0                                            \n",
            "__________________________________________________________________________________________________\n",
            "lstm (LSTM)                     [(None, 14, 512), (N 1312768     embedding[0][0]                  \n",
            "                                                                 hidden_state[0][0]               \n",
            "                                                                 cell_state[0][0]                 \n",
            "__________________________________________________________________________________________________\n",
            "dense (Dense)                   (None, 14, 5744)     2946672     lstm[0][0]                       \n",
            "==================================================================================================\n",
            "Total params: 4,994,672\n",
            "Trainable params: 4,994,672\n",
            "Non-trainable params: 0\n",
            "__________________________________________________________________________________________________\n"
          ],
          "name": "stdout"
        },
        {
          "output_type": "execute_result",
          "data": {
            "image/png": "[encoded data removed]",
            "text/plain": [
              "<IPython.core.display.Image object>"
            ]
          },
          "metadata": {
            "tags": []
          },
          "execution_count": 38
        }
      ]
    },
    {
      "cell_type": "markdown",
      "metadata": {
        "id": "pST9XGJ81ibo"
      },
      "source": [
        "## 6. Making a custom training loop"
      ]
    },
    {
      "cell_type": "code",
      "metadata": {
        "id": "9XImOelPyWig"
      },
      "source": [
        "from tensorflow.keras.losses import SparseCategoricalCrossentropy\n",
        "from tensorflow.keras.optimizers import Adam\n",
        "from tensorflow.keras.metrics import Mean\n",
        "from tqdm.notebook import tqdm_notebook\n",
        "import pandas as pd\n",
        "\n",
        "cross_entropy = SparseCategoricalCrossentropy(from_logits=True)\n",
        "optimizer = Adam()"
      ],
      "execution_count": null,
      "outputs": []
    },
    {
      "cell_type": "code",
      "metadata": {
        "id": "7hJHbWqs1ibr"
      },
      "source": [
        "def get_inputs_outputs(ger_batch):\n",
        "    return (ger_batch[:, :-1], ger_batch[:, 1:])"
      ],
      "execution_count": null,
      "outputs": []
    },
    {
      "cell_type": "code",
      "metadata": {
        "id": "Jvu4J4-u1ibu"
      },
      "source": [
        "@tf.function\n",
        "def get_loss_and_grads(encoder, decoder, eng_inp, ger_inp, ger_out):\n",
        "    with tf.GradientTape() as tape:\n",
        "        h, c = encoder(eng_inp)\n",
        "        ger_pred, _, _ = decoder(ger_inp, h, c)\n",
        "        loss = cross_entropy(ger_out, ger_pred)\n",
        "        grads_enc, grads_dec = tape.gradient(loss,\n",
        "                                             [encoder.trainable_variables,\n",
        "                                              decoder.trainable_variables])\n",
        "        \n",
        "    return (loss, grads_enc, grads_dec)"
      ],
      "execution_count": null,
      "outputs": []
    },
    {
      "cell_type": "code",
      "metadata": {
        "id": "Vl5H06811ibx"
      },
      "source": [
        "def train_enc_dec(encoder, decoder, train_data, val_data, epochs, val_steps=100):\n",
        "\n",
        "    training_loss = []\n",
        "    validation_loss = []\n",
        "\n",
        "    for epoch in tqdm_notebook(range(epochs)):\n",
        "        train_loss_mean = Mean()\n",
        "        val_loss_mean = Mean()\n",
        "\n",
        "        for eng_batch, ger_batch in train_data:\n",
        "            ger_inp, ger_out = get_inputs_outputs(ger_batch)\n",
        "            loss, grads_enc, grads_dec = get_loss_and_grads(encoder, decoder,\n",
        "                                                            eng_batch, ger_inp,\n",
        "                                                            ger_out)\n",
        "            optimizer.apply_gradients(zip(grads_enc, \n",
        "                                          encoder.trainable_variables))\n",
        "            optimizer.apply_gradients(zip(grads_dec, \n",
        "                                          decoder.trainable_variables))\n",
        "            \n",
        "            train_loss_mean(loss)\n",
        "\n",
        "        for eng_batch, ger_batch in val_data.take(val_steps):\n",
        "            ger_inp, ger_out = get_inputs_outputs(ger_batch)\n",
        "            h, c = encoder(eng_batch)\n",
        "            ger_pred, _, _ = decoder(ger_inp, h, c)\n",
        "            loss = cross_entropy(ger_out, ger_pred)\n",
        "            \n",
        "            val_loss_mean(loss)\n",
        "\n",
        "        curr_train_loss = train_loss_mean.result().numpy()\n",
        "        curr_val_loss = val_loss_mean.result().numpy()\n",
        "\n",
        "        training_loss.append(curr_train_loss)\n",
        "        validation_loss.append(curr_val_loss)\n",
        "\n",
        "        print('Epoch: {:02d}\\tLoss: {:.3f}\\tValidation Loss: {:.3f}'\\\n",
        "              .format(epoch+1, curr_train_loss, curr_val_loss))\n",
        "    \n",
        "    history = pd.DataFrame({'loss': training_loss,\n",
        "                           'val_loss': validation_loss})\n",
        "\n",
        "    return encoder, decoder, history"
      ],
      "execution_count": null,
      "outputs": []
    },
    {
      "cell_type": "code",
      "metadata": {
        "id": "MVWOYJ3l1ib1",
        "colab": {
          "base_uri": "https://localhost:8080/",
          "height": 234,
          "referenced_widgets": [
            "536af3bf5f634f30bb0e5473c104c5a3",
            "da5732f29cef434b80ff55a98204e491",
            "8f9a059b143f41658f806cba3a626532",
            "9bcd1c30bd084c64baf0dbd5f7510343",
            "c6e2bab2ae8440ea9005298d14d2c423",
            "b92f1a7708d249cebc8c11d32f9b7097",
            "0a3c952710fe43c497a8986678b02a46",
            "00bc61c1c47e40d09a50bd82a321370c"
          ]
        },
        "outputId": "6ef0cfa9-c9f6-4799-fae3-4caba7ddcba3"
      },
      "source": [
        "tf.keras.backend.clear_session()\n",
        "\n",
        "input_shape = temp_eng.shape[1:]\n",
        "encoder = Encoder(input_shape)\n",
        "decoder = Decoder()\n",
        "\n",
        "encoder, decoder, history = train_enc_dec(encoder, decoder, train_data,\n",
        "                                          test_data, epochs=10)"
      ],
      "execution_count": null,
      "outputs": [
        {
          "output_type": "display_data",
          "data": {
            "application/vnd.jupyter.widget-view+json": {
              "model_id": "536af3bf5f634f30bb0e5473c104c5a3",
              "version_minor": 0,
              "version_major": 2
            },
            "text/plain": [
              "HBox(children=(FloatProgress(value=0.0, max=10.0), HTML(value='')))"
            ]
          },
          "metadata": {
            "tags": []
          }
        },
        {
          "output_type": "stream",
          "text": [
            "Epoch: 01\tLoss: 5.308\tValidation Loss: 4.574\n",
            "Epoch: 02\tLoss: 4.026\tValidation Loss: 3.686\n",
            "Epoch: 03\tLoss: 3.104\tValidation Loss: 2.942\n",
            "Epoch: 04\tLoss: 2.286\tValidation Loss: 2.300\n",
            "Epoch: 05\tLoss: 1.577\tValidation Loss: 1.764\n",
            "Epoch: 06\tLoss: 1.027\tValidation Loss: 1.403\n",
            "Epoch: 07\tLoss: 0.670\tValidation Loss: 1.210\n",
            "Epoch: 08\tLoss: 0.462\tValidation Loss: 1.115\n",
            "Epoch: 09\tLoss: 0.337\tValidation Loss: 1.079\n",
            "Epoch: 10\tLoss: 0.256\tValidation Loss: 1.057\n",
            "\n"
          ],
          "name": "stdout"
        }
      ]
    },
    {
      "cell_type": "code",
      "metadata": {
        "id": "6VSmBdwT1ib4",
        "colab": {
          "base_uri": "https://localhost:8080/",
          "height": 514
        },
        "outputId": "3dcaa2dd-9fd4-4ba3-d16b-f1fc077e0fdb"
      },
      "source": [
        "import matplotlib.pyplot as plt\n",
        "%matplotlib inline\n",
        "plt.style.use('seaborn')\n",
        "\n",
        "plt.figure(figsize=(12,8))\n",
        "plt.plot(history['loss'], label='Training')\n",
        "plt.plot(history['val_loss'], label='Validation')\n",
        "plt.xlabel('Epoch')\n",
        "plt.ylabel('Loss')\n",
        "plt.legend()"
      ],
      "execution_count": null,
      "outputs": [
        {
          "output_type": "execute_result",
          "data": {
            "text/plain": [
              "<matplotlib.legend.Legend at 0x7f0b23439860>"
            ]
          },
          "metadata": {
            "tags": []
          },
          "execution_count": 45
        },
        {
          "output_type": "display_data",
          "data": {
            "image/png": "[encoded data removed]",
            "text/plain": [
              "<Figure size 864x576 with 1 Axes>"
            ]
          },
          "metadata": {
            "tags": []
          }
        }
      ]
    },
    {
      "cell_type": "code",
      "metadata": {
        "id": "dpacst2F1ib7"
      },
      "source": [
        "encoder.save_weights('model/encoder.h5')\n",
        "decoder.save_weights('model/decoder.h5')"
      ],
      "execution_count": null,
      "outputs": []
    },
    {
      "cell_type": "code",
      "metadata": {
        "id": "xseVMz8Y1wHH"
      },
      "source": [
        "import json\n",
        "with open('history.json', 'w') as f:\n",
        "    json.dump(history.to_json(), f)"
      ],
      "execution_count": null,
      "outputs": []
    },
    {
      "cell_type": "markdown",
      "metadata": {
        "id": "xM2gvBM11ib-"
      },
      "source": [
        "## 7. Using the model to translate"
      ]
    },
    {
      "cell_type": "code",
      "metadata": {
        "id": "bGnQtE7L1icA"
      },
      "source": [
        "random_index = np.random.choice(20000, 10)\n",
        "eng_samples = []\n",
        "translations = []\n",
        "for i in random_index:\n",
        "    eng = data_examples[i].split('\\t')[0]\n",
        "    ger = data_examples[i].split('\\t')[1]\n",
        "    eng_samples.append(eng)\n",
        "    translations.append(ger)"
      ],
      "execution_count": null,
      "outputs": []
    },
    {
      "cell_type": "code",
      "metadata": {
        "id": "ohleJRcJ1icD"
      },
      "source": [
        "def get_encoder_input(sentence):\n",
        "    processed = preprocess_sentence(sentence)\n",
        "    return embedding_layer(tf.constant(processed.split()))[None]"
      ],
      "execution_count": null,
      "outputs": []
    },
    {
      "cell_type": "code",
      "metadata": {
        "id": "Unk60cEy1icI"
      },
      "source": [
        "def translate(sentence, max_len=13):\n",
        "    encoder_input = get_encoder_input(sentence)\n",
        "    h, c = encoder(encoder_input)\n",
        "    next_input = np.array(tokenizer.word_index['<start>'])[None, None]\n",
        "    end_token = tokenizer.word_index['<end>']\n",
        "    translation = []\n",
        "\n",
        "    for _ in range(max_len):\n",
        "        out, h, c = decoder(next_input, h, c)\n",
        "        pred = np.argmax(out)\n",
        "        if pred == end_token:\n",
        "            break\n",
        "        next_input = pred[None, None]\n",
        "        translation.append(tokenizer.index_word[pred])\n",
        "\n",
        "    return ' '.join(translation)"
      ],
      "execution_count": null,
      "outputs": []
    },
    {
      "cell_type": "code",
      "metadata": {
        "id": "J7ijhCqgGiUA",
        "colab": {
          "base_uri": "https://localhost:8080/",
          "height": 689
        },
        "outputId": "c628791a-62bc-45d5-c148-6996fa7f1bc8"
      },
      "source": [
        "for english, german in zip(eng_samples, translations):\n",
        "    print('English:', english)\n",
        "    print('Actual German:', german)\n",
        "    print('Translated German:', translate(english))\n",
        "    print()"
      ],
      "execution_count": null,
      "outputs": [
        {
          "output_type": "stream",
          "text": [
            "English: My father is in.\n",
            "Actual German: Mein Vater ist zuhause.\n",
            "Translated German: mein vater ist hier .\n",
            "\n",
            "English: He kissed her.\n",
            "Actual German: Er küsste sie.\n",
            "Translated German: er kuesste sie .\n",
            "\n",
            "English: Tom loves us.\n",
            "Actual German: Tom liebt uns.\n",
            "Translated German: tom liebt uns .\n",
            "\n",
            "English: I saw the message.\n",
            "Actual German: Ich habe die Nachricht gesehen.\n",
            "Translated German: ich habe euren vater gesehen .\n",
            "\n",
            "English: Please wait.\n",
            "Actual German: Bitte warten Sie.\n",
            "Translated German: enspann dich bitte .\n",
            "\n",
            "English: Have you showered?\n",
            "Actual German: Hast du geduscht?\n",
            "Translated German: hast du unterschrieben ?\n",
            "\n",
            "English: I have a good job.\n",
            "Actual German: Ich habe einen guten Arbeitsplatz.\n",
            "Translated German: ich habe eine idee .\n",
            "\n",
            "English: What's the score?\n",
            "Actual German: Wie steht es?\n",
            "Translated German: welcher ist es ?\n",
            "\n",
            "English: Tom liked you.\n",
            "Actual German: Tom mochte dich.\n",
            "Translated German: tom mochte sie .\n",
            "\n",
            "English: He's paraplegic.\n",
            "Actual German: Er ist querschnittsgelähmt.\n",
            "Translated German: er ist elegant .\n",
            "\n"
          ],
          "name": "stdout"
        }
      ]
    }
  ]
}